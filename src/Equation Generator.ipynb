{
 "cells": [
  {
   "cell_type": "code",
   "execution_count": 1,
   "metadata": {},
   "outputs": [],
   "source": [
    "import numpy as np\n",
    "from numpy import sin, cos\n",
    "import cv2\n",
    "import time\n",
    "from math import pi\n",
    "import os\n",
    "import matplotlib.pyplot as plt\n",
    "from scipy.optimize import curve_fit"
   ]
  },
  {
   "cell_type": "code",
   "execution_count": 2,
   "metadata": {},
   "outputs": [],
   "source": [
    "max_value = 255\n",
    "max_value_H = 360 // 2\n",
    "\n",
    "H_scale = 255/360.0 #H values span from 0-360\n",
    "S_V_scale = 255/100.0 #S and V values span from 0-100\n",
    "    \n",
    "    #CHANGE THESE HSV VALUES\n",
    "H_low = 80\n",
    "S_low = 23\n",
    "V_low = 50\n",
    "H_high = 150\n",
    "S_high = 100\n",
    "V_high = 100\n",
    "\n",
    "#Use HSV Color Picker values and scale to 0-255 range\n",
    "red_lower = (int(H_low*H_scale), int(S_low*S_V_scale), int(V_low*S_V_scale))\n",
    "red_upper = (int(H_high*H_scale), int(S_high*S_V_scale), int(V_high*S_V_scale))\n",
    "window_capture_name = 'Video Capture'\n",
    "window_detection_name = 'Object Detection'\n",
    "low_H_name = 'Low H'\n",
    "low_S_name = 'Low S'\n",
    "low_V_name = 'Low V'\n",
    "high_H_name = 'High H'\n",
    "high_S_name = 'High S'\n",
    "high_V_name = 'High V'\n",
    "\n",
    "#red_lower = cv2.cvtColor([[[186,128,112]]],cv2.COLOR_RGB2HSV)\n",
    "#red_upper = cv2.cvtColor([[[159,73,35]]],cv2.COLOR_RGB2HSV)\n",
    "#red_lower = (0, .45*255, .55*255)\n",
    "#red_upper = (50, 1*255, .7*255)"
   ]
  },
  {
   "cell_type": "code",
   "execution_count": 3,
   "metadata": {},
   "outputs": [],
   "source": [
    "\n",
    "def rotate(ROT, x):\n",
    "    rotx = np.array(ROT[0])\n",
    "    roty = np.array(ROT[1])\n",
    "    rotz = np.array(ROT[2])\n",
    "    \n",
    "    transx = np.array(ROT[3])\n",
    "    transy = np.array(ROT[4])\n",
    "    transz = np.array(ROT[5])\n",
    "    \n",
    "    rotx = np.array([[1,0,0], [0, cos(rotx), -sin(rotx)], [0, sin(rotx), cos(rotx)]])\n",
    "    rotx = np.array(rotx)\n",
    "    roty = np.array([[cos(roty), 0, sin(roty)], [0, 1, 0], [-sin(roty), 0, cos(roty)]])\n",
    "    roty = np.array(roty)\n",
    "    rotz = np.array([[cos(rotz), -sin(rotz), 0], [sin(rotz), cos(rotz), 0], [0, 0, 1]])\n",
    "    rotz = np.array(rotz)\n",
    "    \n",
    "    rot = np.dot(rotx, roty)\n",
    "    rot = np.dot(rot, rotz);\n",
    "    \n",
    "    rot = np.hstack((rot,np.array([[transx], [transy], [transz]])))\n",
    "    rot = np.vstack((rot,np.array([0, 0, 0, 1])))\n",
    "    return np.dot(rot, x)\n",
    "\n",
    "\n",
    "def on_low_H_thresh_trackbar(val):\n",
    "    global low_H\n",
    "    global high_H\n",
    "    low_H = val\n",
    "    low_H = min(high_H-1, low_H)\n",
    "    cv2.setTrackbarPos(low_H_name, window_detection_name, low_H)\n",
    "\n",
    "\n",
    "def on_high_H_thresh_trackbar(val):\n",
    "    global low_H\n",
    "    global high_H\n",
    "    high_H = val\n",
    "    high_H = max(high_H, low_H+1)\n",
    "    cv2.setTrackbarPos(high_H_name, window_detection_name, high_H)\n",
    "\n",
    "\n",
    "def on_low_S_thresh_trackbar(val):\n",
    "    global low_S\n",
    "    global high_S\n",
    "    low_S = val\n",
    "    low_S = min(high_S-1, low_S)\n",
    "    cv2.setTrackbarPos(low_S_name, window_detection_name, low_S)\n",
    "\n",
    "\n",
    "def on_high_S_thresh_trackbar(val):\n",
    "    global low_S\n",
    "    global high_S\n",
    "    high_S = val\n",
    "    high_S = max(high_S, low_S+1)\n",
    "    cv2.setTrackbarPos(high_S_name, window_detection_name, high_S)\n",
    "\n",
    "\n",
    "def on_low_V_thresh_trackbar(val):\n",
    "    global low_V\n",
    "    global high_V\n",
    "    low_V = val\n",
    "    low_V = min(high_V-1, low_V)\n",
    "    cv2.setTrackbarPos(low_V_name, window_detection_name, low_V)\n",
    "\n",
    "\n",
    "def on_high_V_thresh_trackbar(val):\n",
    "    global low_V\n",
    "    global high_V\n",
    "    high_V = val\n",
    "    high_V = max(high_V, low_V+1)\n",
    "    cv2.setTrackbarPos(high_V_name, window_detection_name, high_V)"
   ]
  },
  {
   "cell_type": "code",
   "execution_count": 4,
   "metadata": {},
   "outputs": [],
   "source": [
    "def track(frame):\n",
    "    blurred = cv2.GaussianBlur(frame, (11, 11), 0)\n",
    "    hsv = cv2.cvtColor(blurred, cv2.COLOR_BGR2HSV)\n",
    "    mask = cv2.inRange(hsv, red_lower, red_upper)\n",
    "    mask = cv2.erode(mask, None, iterations=2)\n",
    "    mask = cv2.dilate(mask, None, iterations=2)\n",
    "    cnts, trash = cv2.findContours(mask.copy(), cv2.RETR_EXTERNAL, cv2.CHAIN_APPROX_SIMPLE)\n",
    "    center = None\n",
    "\n",
    "    if len(cnts) > 0:\n",
    "        c = max(cnts, key=cv2.contourArea)\n",
    "        ((x, y), radius) = cv2.minEnclosingCircle(c)\n",
    "        M = cv2.moments(c) \n",
    "        center = (int(M[\"m10\"] / M[\"m00\"]), int(M[\"m01\"] / M[\"m00\"]))\n",
    "\n",
    "        if radius > 15:\n",
    "            cv2.circle(frame, (int(x), int(y)), int(radius), (0, 255, 255), 2)\n",
    "            cv2.circle(frame, center, 5, (0, 0, 255), -1)\n",
    "            xoffset = int(center[0])\n",
    "            yoffset = int(center[1])\n",
    "        else:\n",
    "            xoffset = 0\n",
    "            yoffset = 0\n",
    "    else:\n",
    "        xoffset = 0\n",
    "        yoffset = 0\n",
    "    #cv2.imshow('image',frame)\n",
    "    #cv2.waitKey(0)\n",
    "    #cv2.destroyAllWindows()\n",
    "    return radius"
   ]
  },
  {
   "cell_type": "code",
   "execution_count": 5,
   "metadata": {},
   "outputs": [],
   "source": [
    "path = 'C:/Users/madis/images/rgb/set2'\n",
    "folder = os.fsencode(path)\n",
    "r = []\n",
    "d = []\n",
    "\n",
    "for file in os.listdir(folder):\n",
    "    filename = os.fsdecode(file)\n",
    "    filepath = os.path.join(path, filename)\n",
    "    if filename.endswith( ('.png') ): # whatever file types you're using...\n",
    "        img = cv2.imread(filepath)\n",
    "        dist = int(filename.split('_')[0])\n",
    "        radius = track(img)\n",
    "        r.append(radius)\n",
    "        d.append(dist)\n",
    "        #print(filename)\n"
   ]
  },
  {
   "cell_type": "markdown",
   "metadata": {},
   "source": [
    "13_1_color.png\n",
    "13_2_color.png\n",
    "14_1_Color.png\n",
    "14_2_Color.png\n",
    "14_3_Color.png\n",
    "15_1_Color.png\n",
    "15_2_Color.png\n",
    "15_3_Color.png"
   ]
  },
  {
   "cell_type": "code",
   "execution_count": 6,
   "metadata": {},
   "outputs": [],
   "source": [
    "def equation(d, r, degree):\n",
    "    coeff = np.polyfit(d, r, degree)\n",
    "    x = np.linspace(0, 20, 100)\n",
    "    y = np.zeros(len(x))\n",
    "    for i in range(len(coeff)):\n",
    "        y += np.power(x, degree - i)*coeff[i]\n",
    "    return x, y"
   ]
  },
  {
   "cell_type": "code",
   "execution_count": 7,
   "metadata": {},
   "outputs": [],
   "source": [
    "def linear(x, a, b):\n",
    "    return a*x + b"
   ]
  },
  {
   "cell_type": "code",
   "execution_count": 8,
   "metadata": {},
   "outputs": [],
   "source": [
    "def inverse(x, a, b):\n",
    "    return a/x + b"
   ]
  },
  {
   "cell_type": "code",
   "execution_count": 9,
   "metadata": {},
   "outputs": [],
   "source": [
    "def parabolic(x, a0, a1, a2):\n",
    "    return a2*np.power(x, 2) + a1 * x + a0"
   ]
  },
  {
   "cell_type": "code",
   "execution_count": 10,
   "metadata": {},
   "outputs": [],
   "source": [
    "def exponential(x, a, b, c):\n",
    "    return a * np.exp(-b*x) + c"
   ]
  },
  {
   "cell_type": "code",
   "execution_count": 11,
   "metadata": {},
   "outputs": [],
   "source": [
    "def f(x,a,b,c, d):\n",
    "    return a*np.exp(-b*(x+d))+c"
   ]
  },
  {
   "cell_type": "code",
   "execution_count": 12,
   "metadata": {},
   "outputs": [
    {
     "name": "stdout",
     "output_type": "stream",
     "text": [
      "[97.22252655029297, 102.8847427368164, 83.65998840332031, 78.64338684082031, 81.66104888916016, 69.10762023925781, 69.40878295898438, 71.45115661621094] [0, 0, 1, 1, 1, 2, 2, 2] [31.31484603881836, 31.27938461303711, 29.410982131958008, 29.15485954284668, 29.1549072265625, 29.137826919555664, 27.726303100585938, 27.756967544555664, 24.382469177246094, 26.100866317749023, 26.239500045776367, 25.935115814208984, 24.654577255249023, 24.48301124572754, 23.235130310058594, 23.197742462158203, 58.08707046508789, 57.692195892333984, 61.08119583129883, 52.23574447631836, 52.65745544433594, 52.562095642089844, 47.107295989990234, 48.07514572143555, 47.8775520324707, 42.93614196777344, 42.60533905029297, 43.65288162231445, 36.866668701171875, 39.43621826171875, 39.176719665527344, 36.05481719970703, 35.61601638793945, 34.176475524902344, 31.48780059814453, 30.40719985961914, 33.842864990234375] [10, 10, 10, 11, 11, 11, 12, 12, 12, 13, 13, 13, 14, 14, 15, 15, 3, 3, 3, 4, 4, 4, 5, 5, 5, 6, 6, 6, 7, 7, 7, 8, 8, 8, 9, 9, 9]\n"
     ]
    }
   ],
   "source": [
    "threshhold_height = 2\n",
    "small_r = []\n",
    "small_d = []\n",
    "big_r = []\n",
    "big_d = []\n",
    "for i in range(len(d)):\n",
    "    if d[i] > threshhold_height:\n",
    "        big_r.append(r[i])\n",
    "        big_d.append(d[i])\n",
    "    else:\n",
    "        small_r.append(r[i])\n",
    "        small_d.append(d[i])\n",
    "print(small_r, small_d, big_r, big_d)"
   ]
  },
  {
   "cell_type": "code",
   "execution_count": 13,
   "metadata": {},
   "outputs": [
    {
     "name": "stdout",
     "output_type": "stream",
     "text": [
      "[ 1.44511277e+01 -2.57330071e-01  1.13018205e-03]\n"
     ]
    },
    {
     "data": {
      "image/png": "[encoded data removed]",
      "text/plain": [
       "<Figure size 432x288 with 1 Axes>"
      ]
     },
     "metadata": {
      "needs_background": "light"
     },
     "output_type": "display_data"
    }
   ],
   "source": [
    "x = np.linspace(0, 100, 1000)\n",
    "#popt1, pcov1 = curve_fit(linear, r, d)\n",
    "#popt2, pcov2 = curve_fit(parabolic, r, d)\n",
    "#popt3, pcov3 = curve_fit(exponential, r, d)\n",
    "popt4, pcov4 = curve_fit(linear, small_r, small_d)\n",
    "popt5, pcov5 = curve_fit(linear, big_r, big_d)\n",
    "popt6, pcov6 = curve_fit(parabolic, small_r, small_d)\n",
    "popt7, pcov7 = curve_fit(parabolic, big_r, big_d)\n",
    "\n",
    "#plt.plot(x, linear(x, *popt4), 'r-')\n",
    "\n",
    "x1 = np.linspace(0, 60, 100)\n",
    "x2 = np.linspace(60, 100, 100)\n",
    "plt.plot(x2, parabolic(x2, *popt6), 'g-')\n",
    "#plt.plot(x, linear(x, *popt5), 'r-')\n",
    "#plt.plot(x, parabolic(x, *popt7), 'g-')\n",
    "\n",
    "\n",
    "plt.plot(x1, f(x1,13.16154266,  0.04618347, 0.10378283, -25))\n",
    "\n",
    "print(popt6)\n",
    "\n",
    "plt.plot(r, d, 'ro')\n",
    "plt.xlabel('radius')\n",
    "plt.ylabel('height')\n",
    "plt.ylim((0, 20))\n",
    "plt.xlim((20, 100))\n",
    "plt.show()"
   ]
  },
  {
   "cell_type": "code",
   "execution_count": 80,
   "metadata": {},
   "outputs": [
    {
     "name": "stdout",
     "output_type": "stream",
     "text": [
      "[13.16154266  0.04618347  0.10378283]\n"
     ]
    },
    {
     "data": {
      "image/png": "[encoded data removed]",
      "text/plain": [
       "<Figure size 432x288 with 1 Axes>"
      ]
     },
     "metadata": {
      "needs_background": "light"
     },
     "output_type": "display_data"
    }
   ],
   "source": [
    "x = np.linspace(0, 100, 1000)\n",
    "x_shifted = np.linspace(25, 195, 1000)\n",
    "r_prime = [i - 25 for i in r]\n",
    "\n",
    "popt3, pcov3 = curve_fit(exponential, r_prime, d)\n",
    "#x_prime = [a + 25 for a in x]\n",
    "plt.plot(x, exponential(x, *popt3), 'b-')\n",
    "print(popt3)\n",
    "             \n",
    "#x, y = equation(d, r, 2)\n",
    "plt.plot(r_prime, d, 'ro')\n",
    "plt.plot(r, d, 'go')\n",
    "\n",
    "plt.plot(x, f(x,13.16154266,  0.04618347, 0.10378283, -25))\n",
    "\n",
    "#plt.plot(x_shifted, y, 'y')\n",
    "#plt.plot(x, 4.98794026*np.exp(-0.08947573*(x-25))+.07551643, 'b')\n",
    "#plt.plot(x, y, 'g')\n",
    "plt.xlabel('radius')\n",
    "plt.ylabel('height')\n",
    "plt.show()"
   ]
  },
  {
   "cell_type": "code",
   "execution_count": null,
   "metadata": {},
   "outputs": [],
   "source": []
  }
 ],
 "metadata": {
  "kernelspec": {
   "display_name": "Python 3",
   "language": "python",
   "name": "python3"
  },
  "language_info": {
   "codemirror_mode": {
    "name": "ipython",
    "version": 3
   },
   "file_extension": ".py",
   "mimetype": "text/x-python",
   "name": "python",
   "nbconvert_exporter": "python",
   "pygments_lexer": "ipython3",
   "version": "3.7.3"
  }
 },
 "nbformat": 4,
 "nbformat_minor": 2
}
